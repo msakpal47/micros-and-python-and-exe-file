{
 "cells": [
  {
   "cell_type": "code",
   "execution_count": 1,
   "id": "55e1feb4-f539-4c6b-8f88-abee7af36ba5",
   "metadata": {},
   "outputs": [
    {
     "name": "stdout",
     "output_type": "stream",
     "text": [
      "Defaulting to user installation because normal site-packages is not writeable\n",
      "Requirement already satisfied: pandas in c:\\program files\\python313\\lib\\site-packages (2.2.3)\n",
      "Collecting reportlab\n",
      "  Downloading reportlab-4.4.0-py3-none-any.whl.metadata (1.8 kB)\n",
      "Requirement already satisfied: openpyxl in c:\\users\\finrise\\appdata\\roaming\\python\\python313\\site-packages (3.1.5)\n",
      "Requirement already satisfied: numpy>=1.26.0 in c:\\users\\finrise\\appdata\\roaming\\python\\python313\\site-packages (from pandas) (2.2.3)\n",
      "Requirement already satisfied: python-dateutil>=2.8.2 in c:\\program files\\python313\\lib\\site-packages (from pandas) (2.9.0.post0)\n",
      "Requirement already satisfied: pytz>=2020.1 in c:\\program files\\python313\\lib\\site-packages (from pandas) (2025.1)\n",
      "Requirement already satisfied: tzdata>=2022.7 in c:\\program files\\python313\\lib\\site-packages (from pandas) (2025.1)\n",
      "Requirement already satisfied: pillow>=9.0.0 in c:\\users\\finrise\\appdata\\roaming\\python\\python313\\site-packages (from reportlab) (11.1.0)\n",
      "Collecting chardet (from reportlab)\n",
      "  Downloading chardet-5.2.0-py3-none-any.whl.metadata (3.4 kB)\n",
      "Requirement already satisfied: et-xmlfile in c:\\users\\finrise\\appdata\\roaming\\python\\python313\\site-packages (from openpyxl) (2.0.0)\n",
      "Requirement already satisfied: six>=1.5 in c:\\program files\\python313\\lib\\site-packages (from python-dateutil>=2.8.2->pandas) (1.17.0)\n",
      "Downloading reportlab-4.4.0-py3-none-any.whl (2.0 MB)\n",
      "   ---------------------------------------- 0.0/2.0 MB ? eta -:--:--\n",
      "   -------------------------------- ------- 1.6/2.0 MB 8.0 MB/s eta 0:00:01\n",
      "   ---------------------------------------- 2.0/2.0 MB 7.1 MB/s eta 0:00:00\n",
      "Downloading chardet-5.2.0-py3-none-any.whl (199 kB)\n",
      "Installing collected packages: chardet, reportlab\n",
      "Successfully installed chardet-5.2.0 reportlab-4.4.0\n",
      "Note: you may need to restart the kernel to use updated packages.\n"
     ]
    },
    {
     "name": "stderr",
     "output_type": "stream",
     "text": [
      "  WARNING: The script chardetect.exe is installed in 'C:\\Users\\FINRISE\\AppData\\Roaming\\Python\\Python313\\Scripts' which is not on PATH.\n",
      "  Consider adding this directory to PATH or, if you prefer to suppress this warning, use --no-warn-script-location.\n",
      "\n",
      "[notice] A new release of pip is available: 25.0 -> 25.1\n",
      "[notice] To update, run: python.exe -m pip install --upgrade pip\n"
     ]
    }
   ],
   "source": [
    "pip install pandas reportlab openpyxl\n"
   ]
  },
  {
   "cell_type": "code",
   "execution_count": 2,
   "id": "7c1b0ab0-87db-41fd-9640-9e4d59936c1f",
   "metadata": {},
   "outputs": [],
   "source": [
    "import pandas as pd\n",
    "from reportlab.lib.pagesizes import A4\n",
    "from reportlab.pdfgen import canvas\n",
    "from reportlab.lib.units import mm\n",
    "from reportlab.lib.colors import blue\n",
    "import os\n"
   ]
  },
  {
   "cell_type": "code",
   "execution_count": 3,
   "id": "737f6201-3e52-4b14-9fbc-143eca57c081",
   "metadata": {},
   "outputs": [],
   "source": [
    "def generate_contract_notes(excel_path, output_dir):\n",
    "    # Load Excel\n",
    "    df = pd.read_excel(excel_path)\n",
    "    \n",
    "    # Create output directory\n",
    "    os.makedirs(output_dir, exist_ok=True)\n",
    "\n",
    "    for index, row in df.iterrows():\n",
    "        name = str(row[0])\n",
    "        address = str(row[1])\n",
    "        trade_date = str(row[2])\n",
    "        contract_number = str(row[3])\n",
    "        fund_name = str(row[4])\n",
    "        shares = str(row[5])\n",
    "        nav = str(row[6])\n",
    "        total_amount = str(row[7])\n",
    "        contract_note_date = str(row[8])\n",
    "\n",
    "        # Prepare file\n",
    "        filename = f\"Contract_Note_{name.replace(' ', '_')}.pdf\"\n",
    "        filepath = os.path.join(output_dir, filename)\n",
    "\n",
    "        # Create PDF\n",
    "        c = canvas.Canvas(filepath, pagesize=A4)\n",
    "        width, height = A4\n",
    "\n",
    "        def draw_centered(text, y, font_size=12, bold=False):\n",
    "            c.setFont(\"Helvetica-Bold\" if bold else \"Helvetica\", font_size)\n",
    "            text_width = c.stringWidth(text, \"Helvetica\", font_size)\n",
    "            c.drawString((width - text_width) / 2, y, text)\n",
    "\n",
    "        # Header\n",
    "        draw_centered(\"Delta Asset Management Incorporated VCC Sub-Fund\", height - 60, 14, bold=True)\n",
    "        draw_centered(\"712, Nexsky Tower, 7th floor, Ebene Cybercity, Mauritius\", height - 80, 12)\n",
    "\n",
    "        # Trade info\n",
    "        c.setFont(\"Helvetica\", 12)\n",
    "        c.drawString(150 * mm, height - 110, \"Trade Date:\")\n",
    "        c.drawString(180 * mm, height - 110, trade_date)\n",
    "\n",
    "        c.drawString(150 * mm, height - 125, \"Contract Number:\")\n",
    "        c.drawString(180 * mm, height - 125, contract_number)\n",
    "\n",
    "        c.drawString(20 * mm, height - 125, \"Issued in the name of:\")\n",
    "        c.setFont(\"Helvetica-Bold\", 12)\n",
    "        c.drawString(20 * mm, height - 140, name)\n",
    "        c.drawString(20 * mm, height - 155, address)\n",
    "\n",
    "        # Fund info\n",
    "        c.setFont(\"Helvetica\", 12)\n",
    "        c.drawString(20 * mm, height - 180, \"In accordance with your instructions, we confirm having issued the following Units in:\")\n",
    "        c.setFont(\"Helvetica-Bold\", 12)\n",
    "        c.drawString(20 * mm, height - 195, fund_name)\n",
    "\n",
    "        # Share info\n",
    "        c.setFont(\"Helvetica\", 12)\n",
    "        c.drawString(20 * mm, height - 220, \"Number of shares\")\n",
    "        c.drawString(70 * mm, height - 220, shares)\n",
    "\n",
    "        c.drawString(20 * mm, height - 235, \"N.A.V\")\n",
    "        c.setFont(\"Helvetica\", 12)\n",
    "        c.drawString(70 * mm, height - 235, nav)\n",
    "        c.line(70 * mm, height - 237, (70 + len(nav)*2.5) * mm, height - 237)\n",
    "\n",
    "        # Total amount\n",
    "        c.setFont(\"Helvetica-Bold\", 12)\n",
    "        c.drawString(20 * mm, height - 260, \"Total Amount\")\n",
    "        c.drawString(70 * mm, height - 260, total_amount)\n",
    "        c.line(70 * mm, height - 262, (70 + len(total_amount)*2.5) * mm, height - 262)\n",
    "\n",
    "        # Footer note\n",
    "        c.setFont(\"Helvetica\", 10)\n",
    "        footer_note = \"For any discrepancy in the particulars given above; please email us on ops@apexasset.ai by quoting the Contract Number.\"\n",
    "        c.drawString(20 * mm, height - 290, footer_note[:110])\n",
    "        if len(footer_note) > 110:\n",
    "            c.drawString(20 * mm, height - 305, footer_note[110:])\n",
    "\n",
    "        # Footer date\n",
    "        c.setFont(\"Helvetica\", 12)\n",
    "        c.drawString(20 * mm, height - 330, f\"Date of Contract Note: {contract_note_date}\")\n",
    "\n",
    "        # Repeated footer text\n",
    "        draw_centered(\"Delta Asset Management Incorporated VCC Sub-Fund\", height - 370, 12, bold=True)\n",
    "        draw_centered(\"712, Nexsky Tower, 7th floor, Ebene Cybercity, Mauritius\", height - 390, 11)\n",
    "\n",
    "        c.save()\n",
    "\n",
    "    print(f\"PDFs generated in: {output_dir}\")"
   ]
  },
  {
   "cell_type": "code",
   "execution_count": 5,
   "id": "c94b3622-9a45-4f57-b6ff-4edc43058f27",
   "metadata": {},
   "outputs": [
    {
     "name": "stdout",
     "output_type": "stream",
     "text": [
      "PDFs generated in: C:\\Users\\FINRISE\\Desktop\\macros format swati\\Output\n"
     ]
    },
    {
     "name": "stderr",
     "output_type": "stream",
     "text": [
      "C:\\Users\\FINRISE\\AppData\\Local\\Temp\\ipykernel_5956\\1917830605.py:9: FutureWarning: Series.__getitem__ treating keys as positions is deprecated. In a future version, integer keys will always be treated as labels (consistent with DataFrame behavior). To access a value by position, use `ser.iloc[pos]`\n",
      "  name = str(row[0])\n",
      "C:\\Users\\FINRISE\\AppData\\Local\\Temp\\ipykernel_5956\\1917830605.py:10: FutureWarning: Series.__getitem__ treating keys as positions is deprecated. In a future version, integer keys will always be treated as labels (consistent with DataFrame behavior). To access a value by position, use `ser.iloc[pos]`\n",
      "  address = str(row[1])\n",
      "C:\\Users\\FINRISE\\AppData\\Local\\Temp\\ipykernel_5956\\1917830605.py:11: FutureWarning: Series.__getitem__ treating keys as positions is deprecated. In a future version, integer keys will always be treated as labels (consistent with DataFrame behavior). To access a value by position, use `ser.iloc[pos]`\n",
      "  trade_date = str(row[2])\n",
      "C:\\Users\\FINRISE\\AppData\\Local\\Temp\\ipykernel_5956\\1917830605.py:12: FutureWarning: Series.__getitem__ treating keys as positions is deprecated. In a future version, integer keys will always be treated as labels (consistent with DataFrame behavior). To access a value by position, use `ser.iloc[pos]`\n",
      "  contract_number = str(row[3])\n",
      "C:\\Users\\FINRISE\\AppData\\Local\\Temp\\ipykernel_5956\\1917830605.py:13: FutureWarning: Series.__getitem__ treating keys as positions is deprecated. In a future version, integer keys will always be treated as labels (consistent with DataFrame behavior). To access a value by position, use `ser.iloc[pos]`\n",
      "  fund_name = str(row[4])\n",
      "C:\\Users\\FINRISE\\AppData\\Local\\Temp\\ipykernel_5956\\1917830605.py:14: FutureWarning: Series.__getitem__ treating keys as positions is deprecated. In a future version, integer keys will always be treated as labels (consistent with DataFrame behavior). To access a value by position, use `ser.iloc[pos]`\n",
      "  shares = str(row[5])\n",
      "C:\\Users\\FINRISE\\AppData\\Local\\Temp\\ipykernel_5956\\1917830605.py:15: FutureWarning: Series.__getitem__ treating keys as positions is deprecated. In a future version, integer keys will always be treated as labels (consistent with DataFrame behavior). To access a value by position, use `ser.iloc[pos]`\n",
      "  nav = str(row[6])\n",
      "C:\\Users\\FINRISE\\AppData\\Local\\Temp\\ipykernel_5956\\1917830605.py:16: FutureWarning: Series.__getitem__ treating keys as positions is deprecated. In a future version, integer keys will always be treated as labels (consistent with DataFrame behavior). To access a value by position, use `ser.iloc[pos]`\n",
      "  total_amount = str(row[7])\n",
      "C:\\Users\\FINRISE\\AppData\\Local\\Temp\\ipykernel_5956\\1917830605.py:17: FutureWarning: Series.__getitem__ treating keys as positions is deprecated. In a future version, integer keys will always be treated as labels (consistent with DataFrame behavior). To access a value by position, use `ser.iloc[pos]`\n",
      "  contract_note_date = str(row[8])\n"
     ]
    }
   ],
   "source": [
    "generate_contract_notes(\n",
    "    excel_path=r\"C:\\Users\\FINRISE\\Desktop\\macros format swati\\CONTRACT NOTE DATA (3).xlsx\",\n",
    "    output_dir=r\"C:\\Users\\FINRISE\\Desktop\\macros format swati\\Output\"\n",
    ")"
   ]
  },
  {
   "cell_type": "code",
   "execution_count": null,
   "id": "968df9e2-8495-4675-a859-1fa8d1a50f40",
   "metadata": {},
   "outputs": [],
   "source": []
  }
 ],
 "metadata": {
  "kernelspec": {
   "display_name": "Python 3 (ipykernel)",
   "language": "python",
   "name": "python3"
  },
  "language_info": {
   "codemirror_mode": {
    "name": "ipython",
    "version": 3
   },
   "file_extension": ".py",
   "mimetype": "text/x-python",
   "name": "python",
   "nbconvert_exporter": "python",
   "pygments_lexer": "ipython3",
   "version": "3.13.2"
  }
 },
 "nbformat": 4,
 "nbformat_minor": 5
}
